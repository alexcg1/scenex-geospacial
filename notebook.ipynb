{
 "cells": [
  {
   "cell_type": "markdown",
   "id": "59e984dc-e746-47f2-bdd1-700c51ce7600",
   "metadata": {},
   "source": [
    "# SceneXplain and geospatial data"
   ]
  },
  {
   "cell_type": "markdown",
   "id": "7880143d-17c6-421c-86f3-436313d17e17",
   "metadata": {},
   "source": [
    "## 1. Download data\n",
    "\n",
    "1. Download the [UC Merced Land Use dataset](http://weegee.vision.ucmerced.edu/datasets/landuse.html) and extract info the `data` directory\n",
    "2. Convert the TIF files to JPG format (`mogrify -format jpg */*.tif`)\n",
    "\n",
    "## 2. Set options below"
   ]
  },
  {
   "cell_type": "code",
   "execution_count": 3,
   "id": "3e2ffa42-4784-48b5-b3e1-29d34f05749c",
   "metadata": {},
   "outputs": [],
   "source": [
    "# SceneXplain opitons\n",
    "SCENEX_SECRET = 'p85wODuVWnHRULoOar75:ac55a397a4360e312fcf4a3c94704ff27a2dcc0eee97b963d42c01494713e28d'\n",
    "FEATURES = ['json', 'high_quality']\n",
    "\n",
    "# Dataset options\n",
    "DATASET = \"./data/UCMerced_LandUse/UCMerced_LandUse\"\n",
    "MAX_COUNT = 20"
   ]
  },
  {
   "cell_type": "code",
   "execution_count": 4,
   "id": "52245011-946e-4e11-b052-128a838a82bf",
   "metadata": {},
   "outputs": [],
   "source": [
    "# from pprint import pprint\n",
    "import glob\n",
    "import json\n",
    "import os\n",
    "import base64\n",
    "import http"
   ]
  },
  {
   "cell_type": "code",
   "execution_count": 14,
   "id": "9355df59-cf6d-4714-9adb-c269e5c5ce14",
   "metadata": {},
   "outputs": [],
   "source": [
    "from random import sample\n",
    "\n",
    "image_folder = f'{DATASET}/Images'\n",
    "image_files = glob.glob(f'{image_folder}/**/*.jpg')\n",
    "shuffled_files = sample(image_files, MAX_COUNT)"
   ]
  },
  {
   "cell_type": "code",
   "execution_count": 15,
   "id": "d4c3bb82-f09e-4fd8-9569-ddbd355ad53e",
   "metadata": {},
   "outputs": [],
   "source": [
    "headers = {\n",
    "    \"x-api-key\": f\"token {SCENEX_SECRET}\",\n",
    "    \"content-type\": \"application/json\",\n",
    "}\n",
    "\n",
    "def image_to_data_uri(file_path):\n",
    "    with open(file_path, \"rb\") as image_file:\n",
    "        encoded_image = base64.b64encode(image_file.read()).decode(\"utf-8\")\n",
    "        return f\"data:image/jpeg;base64,{encoded_image}\"\n",
    "\n",
    "\n",
    "def process_image(filename, schema, features=FEATURES):\n",
    "    print(f'Processing {filename}')\n",
    "    data = {\n",
    "        \"data\": [\n",
    "            {\"image\": image_to_data_uri(filename), \"features\": features, \"json_schema\": json.dumps(schema)},\n",
    "        ]\n",
    "    }\n",
    "    \n",
    "    connection = http.client.HTTPSConnection(\"api.scenex.jina.ai\")\n",
    "    connection.request(\"POST\", \"/v1/describe\", json.dumps(data), headers)\n",
    "    response = connection.getresponse()\n",
    "    \n",
    "    response_data = response.read().decode(\"utf-8\")\n",
    "    response_json = json.loads(response_data)\n",
    "    \n",
    "    connection.close()\n",
    "\n",
    "    return response_json"
   ]
  },
  {
   "cell_type": "code",
   "execution_count": 8,
   "id": "b5402ec8-2405-4019-ada7-5b931ef5e321",
   "metadata": {},
   "outputs": [],
   "source": [
    "def batch_process(image_list, schema, features=FEATURES):\n",
    "    data = {}\n",
    "    data['data'] = []\n",
    "    categories = []\n",
    "    for image_filename in image_list:\n",
    "        print(f\"Processing {image_filename}\")\n",
    "        category = image_filename.split(\"/\")[-2]\n",
    "        categories.append(category)\n",
    "        data['data'].append(\n",
    "            {\"image\": image_to_data_uri(image_filename), \"features\": features, \"json_schema\": json.dumps(schema)}\n",
    "        )\n",
    "\n",
    "    headers = {\n",
    "        \"x-api-key\": f\"token {SCENEX_SECRET}\",\n",
    "        \"content-type\": \"application/json\",\n",
    "    }\n",
    "\n",
    "    print(\"Sending payload\")\n",
    "    connection = http.client.HTTPSConnection(\"api.scenex.jina.ai\")\n",
    "    connection.request(\"POST\", \"/v1/describe\", json.dumps(data), headers)\n",
    "    response = connection.getresponse()\n",
    "    \n",
    "    response_data = response.read().decode(\"utf-8\")\n",
    "    response_json = json.loads(response_data)\n",
    "    \n",
    "    connection.close()\n",
    "\n",
    "    return response_json"
   ]
  },
  {
   "cell_type": "code",
   "execution_count": 9,
   "id": "40ad97b9-1365-41ce-86e4-47b123d93b4c",
   "metadata": {},
   "outputs": [],
   "source": [
    "# Create JSON schema - since each dataset may have different tags, we have to create it dynamically\n",
    "\n",
    "category_dirs = os.listdir(image_folder)\n",
    "\n",
    "with open('base_schema.json') as file:\n",
    "    schema = json.loads(file.read())\n",
    "    schema['properties']['category']['enum'] = category_dirs"
   ]
  },
  {
   "cell_type": "code",
   "execution_count": null,
   "id": "a4329f75-e07a-4e68-bf8a-7432aad03d59",
   "metadata": {},
   "outputs": [
    {
     "name": "stdout",
     "output_type": "stream",
     "text": [
      "Processing ./data/UCMerced_LandUse/UCMerced_LandUse/Images/freeway/freeway74.jpg\n",
      "\t✅ Successful match!\n",
      "Processing ./data/UCMerced_LandUse/UCMerced_LandUse/Images/tenniscourt/tenniscourt48.jpg\n",
      "\t✅ Successful match!\n",
      "Processing ./data/UCMerced_LandUse/UCMerced_LandUse/Images/mobilehomepark/mobilehomepark89.jpg\n",
      "\t❌ Failed match! (Identified mobilehomepark as sparseresidential)\n",
      "Processing ./data/UCMerced_LandUse/UCMerced_LandUse/Images/buildings/buildings98.jpg\n",
      "\t✅ Successful match!\n",
      "Processing ./data/UCMerced_LandUse/UCMerced_LandUse/Images/sparseresidential/sparseresidential97.jpg\n",
      "\t❌ Failed match! (Identified sparseresidential as forest)\n",
      "Processing ./data/UCMerced_LandUse/UCMerced_LandUse/Images/sparseresidential/sparseresidential69.jpg\n",
      "\t❌ Failed match! (Identified sparseresidential as forest)\n",
      "Processing ./data/UCMerced_LandUse/UCMerced_LandUse/Images/harbor/harbor56.jpg\n",
      "\t✅ Successful match!\n",
      "Processing ./data/UCMerced_LandUse/UCMerced_LandUse/Images/forest/forest75.jpg\n",
      "\t😭 Error\n",
      "Processing ./data/UCMerced_LandUse/UCMerced_LandUse/Images/chaparral/chaparral88.jpg\n",
      "\t❌ Failed match! (Identified chaparral as sparseresidential)\n",
      "Processing ./data/UCMerced_LandUse/UCMerced_LandUse/Images/chaparral/chaparral50.jpg\n",
      "\t❌ Failed match! (Identified chaparral as sparseresidential)\n",
      "Processing ./data/UCMerced_LandUse/UCMerced_LandUse/Images/overpass/overpass37.jpg\n",
      "\t❌ Failed match! (Identified overpass as freeway)\n",
      "Processing ./data/UCMerced_LandUse/UCMerced_LandUse/Images/baseballdiamond/baseballdiamond44.jpg\n"
     ]
    }
   ],
   "source": [
    "successes = []\n",
    "fails = []\n",
    "errors = []\n",
    "\n",
    "for filename in shuffled_files:\n",
    "    category_name = filename.split('/')[-2]\n",
    "    image_data = process_image(filename=filename, schema=schema)\n",
    "    try:\n",
    "        scenex_category = json.loads(image_data['result'][0]['i18n']['en'])['category'][0]\n",
    "    except:\n",
    "        scenex_category = \"error processing\"\n",
    "        \n",
    "    data = {\n",
    "        \"image_path\": filename,\n",
    "        \"target_category\": category_name,\n",
    "        \"scenex_category\": scenex_category\n",
    "    }\n",
    "\n",
    "    if data['target_category'] == data['scenex_category']:\n",
    "        data['match'] = True\n",
    "        successes.append(data)\n",
    "        print(\"\\t✅ Successful match!\")\n",
    "    elif data['scenex_category'] == 'error processing':\n",
    "        errors.append(data)\n",
    "        print(\"\\t😭 Error\")\n",
    "    else:\n",
    "        data['match'] = False\n",
    "        fails.append(data)\n",
    "        print(f\"\\t❌ Failed match! (Identified {data['target_category']} as {data['scenex_category']})\")"
   ]
  },
  {
   "cell_type": "code",
   "execution_count": 12,
   "id": "c4466785-05d5-454c-9923-257bbc731cd7",
   "metadata": {},
   "outputs": [
    {
     "data": {
      "text/plain": [
       "0.8"
      ]
     },
     "execution_count": 12,
     "metadata": {},
     "output_type": "execute_result"
    }
   ],
   "source": [
    "# what percent did we get right?\n",
    "len(successes)/(len(successes)+len(fails))"
   ]
  }
 ],
 "metadata": {
  "kernelspec": {
   "display_name": "Python 3 (ipykernel)",
   "language": "python",
   "name": "python3"
  },
  "language_info": {
   "codemirror_mode": {
    "name": "ipython",
    "version": 3
   },
   "file_extension": ".py",
   "mimetype": "text/x-python",
   "name": "python",
   "nbconvert_exporter": "python",
   "pygments_lexer": "ipython3",
   "version": "3.11.5"
  }
 },
 "nbformat": 4,
 "nbformat_minor": 5
}
